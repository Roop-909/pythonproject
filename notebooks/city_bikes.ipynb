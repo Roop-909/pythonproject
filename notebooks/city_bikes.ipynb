{
 "cells": [
  {
   "cell_type": "code",
   "execution_count": 1,
   "metadata": {},
   "outputs": [
    {
     "name": "stderr",
     "output_type": "stream",
     "text": [
      "/Users/manpreet/Library/Python/3.9/lib/python/site-packages/urllib3/__init__.py:34: NotOpenSSLWarning: urllib3 v2.0 only supports OpenSSL 1.1.1+, currently the 'ssl' module is compiled with 'LibreSSL 2.8.3'. See: https://github.com/urllib3/urllib3/issues/3020\n",
      "  warnings.warn(\n"
     ]
    },
    {
     "name": "stdout",
     "output_type": "stream",
     "text": [
      "                              Station   Latitude  Longitude  Available Bikes\n",
      "0       Ravenswood Ave & Lawrence Ave  41.969090 -87.674237               32\n",
      "1             Lake Park Ave & 56th St  41.793242 -87.587782                4\n",
      "2            Ada St & Washington Blvd  41.882830 -87.661206                3\n",
      "3              Ashland Ave & Grace St  41.950687 -87.668700               11\n",
      "4           Clark St & Wrightwood Ave  41.929546 -87.643118                5\n",
      "...                               ...        ...        ...              ...\n",
      "1630       Bissell St & Armitage Ave*  41.918296 -87.652183                6\n",
      "1631         Lincoln Ave & Roscoe St*  41.943350 -87.670668                4\n",
      "1632      Michigan Ave & Jackson Blvd  41.878005 -87.624144               11\n",
      "1633  Noble St & Milwaukee Ave (Temp)  41.899840 -87.661463                0\n",
      "1634         University Ave & 59th St  41.787878 -87.598906                2\n",
      "\n",
      "[1635 rows x 4 columns]\n",
      "CSV file 'divvy_station_data.csv' saved.\n"
     ]
    }
   ],
   "source": [
    "import requests\n",
    "import pandas as pd\n",
    "\n",
    "# Step 1: Fetch network data\n",
    "api_url = \"https://api.citybik.es/v2/networks\"\n",
    "response = requests.get(api_url)\n",
    "data = response.json()\n",
    "\n",
    "# Step 2: Find the network id for Divvy in Chicago\n",
    "network_id = \"\"\n",
    "network_name_to_find = \"Divvy\"\n",
    "city_to_find = \"Chicago, IL\"\n",
    "for network in data['networks']:\n",
    "    if network['name'] == network_name_to_find and network['location']['city'] == city_to_find:\n",
    "        network_id = network['id']\n",
    "        break\n",
    "\n",
    "if network_id:\n",
    "    # Step 3: Fetch stations data for the network\n",
    "    stations_url = f\"https://api.citybik.es/v2/networks/{network_id}\"\n",
    "    stations_response = requests.get(stations_url)\n",
    "    stations_data = stations_response.json()\n",
    "\n",
    "    # Step 4: Create a list to store station information\n",
    "    station_list = []\n",
    "    for station in stations_data['network']['stations']:\n",
    "        station_info = {\n",
    "            \"Station\": station['name'],\n",
    "            \"Latitude\": station['latitude'],\n",
    "            \"Longitude\": station['longitude'],\n",
    "            \"Available Bikes\": station['free_bikes']\n",
    "        }\n",
    "        station_list.append(station_info)\n",
    "\n",
    "    # Step 5: Create a DataFrame and print it\n",
    "    df_stations = pd.DataFrame(station_list)\n",
    "    print(df_stations)\n",
    "    \n",
    "    # Save the DataFrame as a CSV file\n",
    "    csv_filename = 'divvy_station_data.csv'\n",
    "    df_stations.to_csv(csv_filename, index=False)\n",
    "    print(f\"CSV file '{csv_filename}' saved.\")\n",
    "else:\n",
    "    print(f\"No network found for {network_name_to_find} in {city_to_find}\")"
   ]
  }
 ],
 "metadata": {
  "kernelspec": {
   "display_name": "Python 3",
   "language": "python",
   "name": "python3"
  },
  "language_info": {
   "codemirror_mode": {
    "name": "ipython",
    "version": 3
   },
   "file_extension": ".py",
   "mimetype": "text/x-python",
   "name": "python",
   "nbconvert_exporter": "python",
   "pygments_lexer": "ipython3",
   "version": "3.9.6"
  },
  "orig_nbformat": 4
 },
 "nbformat": 4,
 "nbformat_minor": 2
}
