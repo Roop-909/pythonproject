import requests
import pandas as pd

# Step 1: Fetch network data
api_url = "https://api.citybik.es/v2/networks"
response = requests.get(api_url)
data = response.json()

# Step 2: Find the network id for Divvy in Chicago
network_id = ""
network_name_to_find = "Divvy"
city_to_find = "Chicago, IL"
for network in data['networks']:
    if network['name'] == network_name_to_find and network['location']['city'] == city_to_find:
        network_id = network['id']
        break

if network_id:
    # Step 3: Fetch stations data for the network
    stations_url = f"https://api.citybik.es/v2/networks/{network_id}"
    stations_response = requests.get(stations_url)
    stations_data = stations_response.json()

    # Step 4: Create a list to store station information
    station_list = []
    for station in stations_data['network']['stations']:
        station_info = {
            "Station": station['name'],
            "Latitude": station['latitude'],
            "Longitude": station['longitude'],
            "Available Bikes": station['free_bikes']
        }
        station_list.append(station_info)

    # Step 5: Create a DataFrame and print it
    df_stations = pd.DataFrame(station_list)
    print(df_stations)
    
    # Save the DataFrame as a CSV file
    csv_filename = 'divvy_station_data.csv'
    df_stations.to_csv(csv_filename, index=False)
    print(f"CSV file '{csv_filename}' saved.")
else:
    print(f"No network found for {network_name_to_find} in {city_to_find}")
