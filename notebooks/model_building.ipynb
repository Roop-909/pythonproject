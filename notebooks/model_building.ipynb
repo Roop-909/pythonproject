{
 "cells": [
  {
   "cell_type": "code",
   "execution_count": 9,
   "metadata": {},
   "outputs": [
    {
     "name": "stdout",
     "output_type": "stream",
     "text": [
      "                            OLS Regression Results                            \n",
      "==============================================================================\n",
      "Dep. Variable:            Empty_slots   R-squared:                       0.092\n",
      "Model:                            OLS   Adj. R-squared:                  0.064\n",
      "Method:                 Least Squares   F-statistic:                     3.243\n",
      "Date:                Thu, 07 Sep 2023   Prob (F-statistic):             0.0811\n",
      "Time:                        01:14:44   Log-Likelihood:                -122.76\n",
      "No. Observations:                  34   AIC:                             249.5\n",
      "Df Residuals:                      32   BIC:                             252.6\n",
      "Df Model:                           1                                         \n",
      "Covariance Type:            nonrobust                                         \n",
      "=======================================================================================================\n",
      "                                          coef    std err          t      P>|t|      [0.025      0.975]\n",
      "-------------------------------------------------------------------------------------------------------\n",
      "const                                   7.1753      3.168      2.265      0.030       0.723      13.628\n",
      "Shortest Yelp Distance from Station     0.0255      0.014      1.801      0.081      -0.003       0.054\n",
      "==============================================================================\n",
      "Omnibus:                       17.617   Durbin-Watson:                   1.699\n",
      "Prob(Omnibus):                  0.000   Jarque-Bera (JB):               23.822\n",
      "Skew:                           1.379   Prob(JB):                     6.72e-06\n",
      "Kurtosis:                       6.034   Cond. No.                         448.\n",
      "==============================================================================\n",
      "\n",
      "Notes:\n",
      "[1] Standard Errors assume that the covariance matrix of the errors is correctly specified.\n"
     ]
    }
   ],
   "source": [
    "import pandas as pd\n",
    "import statsmodels.api as sm\n",
    "\n",
    "# Load the combined data\n",
    "merged_data = pd.read_csv('mergeddata.csv')\n",
    "\n",
    "# Select relevant columns for modeling\n",
    "selected_columns = [\n",
    "    \"Shortest Yelp Distance from Station\",  # Updated column name\n",
    "    \"Empty_slots\"  # Updated column name\n",
    "]\n",
    "\n",
    "# Create a subset of the DataFrame with the selected columns\n",
    "data = merged_data[selected_columns]\n",
    "\n",
    "# Data Preprocessing\n",
    "# Make a copy of the data to avoid modifying the original DataFrame\n",
    "data = data.copy()\n",
    "\n",
    "# Check for missing values and drop rows with missing values\n",
    "data.dropna(inplace=True)\n",
    "\n",
    "# Split the data into independent variables (X) and the target variable (y)\n",
    "X = data[[\"Shortest Yelp Distance from Station\"]]  # Updated column name\n",
    "y = data[\"Empty_slots\"]  # Updated column name\n",
    "\n",
    "# Add a constant term to the independent variables for the intercept\n",
    "X = sm.add_constant(X)\n",
    "\n",
    "# Create and train a linear regression model using statsmodels\n",
    "model = sm.OLS(y, X).fit()\n",
    "\n",
    "# Print a summary of the regression model\n",
    "print(model.summary())\n",
    "\n",
    "\n"
   ]
  },
  {
   "cell_type": "markdown",
   "metadata": {},
   "source": [
    "The R-squared value of the model is 0.092, indicating that the model explains a limited amount of the variability in the data. The Adj. R-squared (Adj. R²) is 0.064, suggesting that adding more relevant variables or exploring other factors may be necessary to improve the model's explanatory power. Additionally, the p-value of 0.0811 implies that the model is not highly statistically significant, indicating that \"Shortest Yelp Distance from Station\" may not be a strong predictor of the number of empty slots."
   ]
  },
  {
   "cell_type": "code",
   "execution_count": 16,
   "metadata": {},
   "outputs": [
    {
     "name": "stdout",
     "output_type": "stream",
     "text": [
      "Accuracy: 0.5714285714285714\n",
      "Classification Report:\n",
      "               precision    recall  f1-score   support\n",
      "\n",
      "           0       0.57      1.00      0.73         4\n",
      "           1       1.00      0.00      0.00         3\n",
      "\n",
      "    accuracy                           0.57         7\n",
      "   macro avg       0.79      0.50      0.36         7\n",
      "weighted avg       0.76      0.57      0.42         7\n",
      "\n",
      "Predicted Class: [0]\n"
     ]
    }
   ],
   "source": [
    "import pandas as pd\n",
    "from sklearn.model_selection import train_test_split\n",
    "from sklearn.linear_model import LogisticRegression\n",
    "from sklearn.metrics import accuracy_score, classification_report\n",
    "\n",
    "# Load your dataset (mergeddata.csv) here\n",
    "merged_df_citybik_fsq_yelp = pd.read_csv('mergeddata.csv')\n",
    "\n",
    "# Define the classes: Class 1 (Low Availability) and Class 2 (High Availability)\n",
    "merged_df_citybik_fsq_yelp['Availability'] = (merged_df_citybik_fsq_yelp['Empty_slots'] <= 5).astype(int)\n",
    "\n",
    "# Create a copy of the DataFrame to avoid the SettingWithCopyWarning\n",
    "data = merged_df_citybik_fsq_yelp.copy()\n",
    "\n",
    "# Select relevant columns for modeling\n",
    "selected_columns = [\"Shortest Yelp Distance from Station\", \"Availability\"]\n",
    "data = data[selected_columns]\n",
    "\n",
    "# Data Preprocessing\n",
    "data.dropna(inplace=True)\n",
    "\n",
    "# Split the data into training and testing sets\n",
    "X = data[[\"Shortest Yelp Distance from Station\"]]\n",
    "y = data[\"Availability\"]\n",
    "X_train, X_test, y_train, y_test = train_test_split(X, y, test_size=0.2, random_state=42)\n",
    "\n",
    "# Create and train a logistic regression model\n",
    "model = LogisticRegression()\n",
    "model.fit(X_train, y_train)\n",
    "\n",
    "# Make predictions on the test set\n",
    "y_pred = model.predict(X_test)\n",
    "\n",
    "# Evaluate the classification model\n",
    "accuracy = accuracy_score(y_test, y_pred)\n",
    "\n",
    "# Set zero_division=1 to avoid UndefinedMetricWarning\n",
    "classification_rep = classification_report(y_test, y_pred, zero_division=1)\n",
    "\n",
    "print(\"Accuracy:\", accuracy)\n",
    "print(\"Classification Report:\\n\", classification_rep)\n",
    "\n",
    "# Now use this trained classification model for prediction\n",
    "# For example:\n",
    "new_data = pd.DataFrame({\n",
    "    \"Shortest Yelp Distance from Station\": [25],\n",
    "})\n",
    "predicted_class = model.predict(new_data)\n",
    "print(\"Predicted Class:\", predicted_class)\n",
    "\n"
   ]
  }
 ],
 "metadata": {
  "kernelspec": {
   "display_name": "Python 3",
   "language": "python",
   "name": "python3"
  },
  "language_info": {
   "codemirror_mode": {
    "name": "ipython",
    "version": 3
   },
   "file_extension": ".py",
   "mimetype": "text/x-python",
   "name": "python",
   "nbconvert_exporter": "python",
   "pygments_lexer": "ipython3",
   "version": "3.9.6"
  },
  "orig_nbformat": 4
 },
 "nbformat": 4,
 "nbformat_minor": 2
}
